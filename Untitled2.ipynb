{
  "nbformat": 4,
  "nbformat_minor": 0,
  "metadata": {
    "colab": {
      "provenance": [],
      "authorship_tag": "ABX9TyPKB1WwzM7OIzmumm2z5Lj7",
      "include_colab_link": true
    },
    "kernelspec": {
      "name": "python3",
      "display_name": "Python 3"
    },
    "language_info": {
      "name": "python"
    }
  },
  "cells": [
    {
      "cell_type": "markdown",
      "metadata": {
        "id": "view-in-github",
        "colab_type": "text"
      },
      "source": [
        "<a href=\"https://colab.research.google.com/github/Qween0fPandora/Convert-RGB-to-Bayer-Pattern/blob/main/Untitled2.ipynb\" target=\"_parent\"><img src=\"https://colab.research.google.com/assets/colab-badge.svg\" alt=\"Open In Colab\"/></a>"
      ]
    },
    {
      "cell_type": "code",
      "execution_count": null,
      "metadata": {
        "id": "xjyWcHhBYVIa"
      },
      "outputs": [],
      "source": [
        "#先run这个上传图片\n",
        "from google.colab import files\n",
        "# 选择并上传图像文件\n",
        "uploaded = files.upload()\n",
        "# 获取上传文件的路径\n",
        "image_path = list(uploaded.keys())[0]"
      ]
    },
    {
      "cell_type": "code",
      "source": [
        "import cv2\n",
        "import numpy as np\n",
        "from google.colab.patches import cv2_imshow\n",
        "\n",
        "# Convert RGB image to Bayer BGGR image (Bayer RG)\n",
        "def BGGR(rgb):\n",
        "    bggr = np.empty_like(rgb[:, :, 0])\n",
        "\n",
        "    # for height in range(rgb.shape[0]):\n",
        "    #     for width in range(rgb.shape[1]):\n",
        "    #         pix = rgb[height, width]\n",
        "    #         if height % 2 == 0 and width % 2 == 0:\n",
        "    #             bggr[height, width] = pix[0]  # Blue\n",
        "    #         elif height % 2 == 0 and width % 2 == 1:\n",
        "    #             bggr[height, width] = pix[1]  # Green\n",
        "    #         elif height % 2 == 1 and width % 2 == 0:\n",
        "    #             bggr[height, width] = pix[1]  # Green\n",
        "    #         else:\n",
        "    #             bggr[height, width] = pix[2]  # Red\n",
        "\n",
        "    for height in range(rgb.shape[0]):\n",
        "        for width in range(rgb.shape[1]):\n",
        "            pix = rgb[height, width]\n",
        "            if height % 2 == 0 and width % 2 == 0:\n",
        "                bggr[height, width] = pix[2]  # Blue\n",
        "            elif height % 2 == 0 and width % 2 == 1:\n",
        "                bggr[height, width] = pix[1]  # Green\n",
        "            elif height % 2 == 1 and width % 2 == 0:\n",
        "                bggr[height, width] = pix[1]  # Green\n",
        "            else:\n",
        "                bggr[height, width] = pix[0]  # Red\n",
        "\n",
        "    return bggr\n",
        "\n",
        "\n",
        "# Convert Bayer BG image with missing pixels to modified Bayer BG image\n",
        "def simulate_missing_pixels(bggr):\n",
        "    height, width = bggr.shape[:2]\n",
        "\n",
        "    # # 生成一个与原始图像相同大小的新图像，但去掉了第一行\n",
        "    # new_bayer = np.zeros((height - 1, width), dtype=bggr.dtype)\n",
        "    # new_bayer[:,:] = bggr[1:,:]  # 将原始图像的第二行及其之后的像素复制到新图像中\n",
        "\n",
        "    # 生成一个与原始图像相同大小的新图像，但删除正中间的一行像素\n",
        "    new_bayer = np.zeros((height - 1, width), dtype=bggr.dtype)\n",
        "    new_bayer[:height//2,:] = bggr[:height//2,:]  # 将原始图像上半部分的像素复制到新图像中\n",
        "    new_bayer[height//2:,:] = bggr[(height//2)+1:,:]  # 将原始图像下半部分的像素复制到新图像中\n",
        "\n",
        "    return new_bayer\n",
        "\n",
        "\n",
        "if __name__ == \"__main__\":\n",
        "\n",
        "    img = cv2.imread(image_path)\n",
        "    if img is None:\n",
        "        print(\"Error: Input file\", image_path, \"is error\")\n",
        "        sys.exit(1)\n",
        "\n",
        "    out_bayer = BGGR(img)\n",
        "\n",
        "\n",
        "    print(out_bayer)\n",
        "    new_bayer = simulate_missing_pixels(out_bayer)\n",
        "    print(new_bayer)\n",
        "\n",
        "    # rgb = cv2.cvtColor(simulate_missing_pixels(BGGR(img)), cv2.COLOR_BayerBGGR2RGB) #也是对的\n",
        "    # rgb = cv2.cvtColor(out_bayer, cv2.COLOR_BayerBGGR2RGB)\n",
        "    # rgb = cv2.cvtColor(simulate_missing_pixels(BGGR(img)), cv2.COLOR_BayerBG2BGRA)\n",
        "    # rgb = cv2.cvtColor(simulate_missing_pixels(BGGR(img)), cv2.COLOR_BayerRG2RGB) #这个是对的\n",
        "    rgb = cv2.cvtColor(out_bayer, cv2.COLOR_BayerBGGR2RGB)\n",
        "\n",
        "    cv2_imshow(rgb)\n",
        "\n",
        "    cv2.waitKey(0)\n",
        "    cv2.destroyAllWindows()"
      ],
      "metadata": {
        "id": "i3qRqNG6YXya"
      },
      "execution_count": null,
      "outputs": []
    }
  ]
}